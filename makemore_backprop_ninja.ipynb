{
  "nbformat": 4,
  "nbformat_minor": 0,
  "metadata": {
    "colab": {
      "provenance": [],
      "authorship_tag": "ABX9TyNwfZ6ucGwflsfQR5DJwHGS"
    },
    "kernelspec": {
      "name": "python3",
      "display_name": "Python 3"
    },
    "language_info": {
      "name": "python"
    }
  },
  "cells": [
    {
      "cell_type": "code",
      "execution_count": 93,
      "metadata": {
        "id": "5ZuaZUp5oJh8"
      },
      "outputs": [],
      "source": [
        "import torch.nn.functional as F\n",
        "import matplotlib.pyplot as plt\n",
        "import numpy as np\n",
        "import kagglehub\n",
        "import torch\n",
        "import os\n",
        "%matplotlib inline"
      ]
    },
    {
      "cell_type": "code",
      "source": [
        "def download_dataset() -> str:\n",
        "    path = kagglehub.dataset_download(\"rishitjakharia/names-txt\")\n",
        "    return path # for easier access later"
      ],
      "metadata": {
        "id": "g44jFQs2qCGl"
      },
      "execution_count": 94,
      "outputs": []
    },
    {
      "cell_type": "code",
      "source": [
        "dataset_path = download_dataset() + \"/names.txt\""
      ],
      "metadata": {
        "id": "MA9H16s-qPXT"
      },
      "execution_count": 95,
      "outputs": []
    },
    {
      "cell_type": "code",
      "source": [
        "words = open(dataset_path, 'r').read().splitlines()"
      ],
      "metadata": {
        "id": "VYqGvxdiqWwr"
      },
      "execution_count": 96,
      "outputs": []
    },
    {
      "cell_type": "code",
      "source": [
        "def make_int_char_maps() -> tuple[dict, dict]:\n",
        "  chars = sorted(list(set(''.join(words))))\n",
        "  ctoi = {c: i + 1 for i, c in enumerate(chars)}\n",
        "  ctoi['.'] = 0\n",
        "  itoc = {i: c for c, i in ctoi.items()}\n",
        "  return ctoi, itoc"
      ],
      "metadata": {
        "id": "K2-SWXb-qnq7"
      },
      "execution_count": 97,
      "outputs": []
    },
    {
      "cell_type": "code",
      "source": [
        "ctoi, itoc = make_int_char_maps()"
      ],
      "metadata": {
        "id": "RdXYrtwBq5sT"
      },
      "execution_count": 98,
      "outputs": []
    },
    {
      "cell_type": "code",
      "source": [
        "print(itoc)"
      ],
      "metadata": {
        "colab": {
          "base_uri": "https://localhost:8080/"
        },
        "id": "niQbCUjPrAuD",
        "outputId": "f4a2c623-bad4-46d7-c2bd-a51121526718"
      },
      "execution_count": 99,
      "outputs": [
        {
          "output_type": "stream",
          "name": "stdout",
          "text": [
            "{1: 'a', 2: 'b', 3: 'c', 4: 'd', 5: 'e', 6: 'f', 7: 'g', 8: 'h', 9: 'i', 10: 'j', 11: 'k', 12: 'l', 13: 'm', 14: 'n', 15: 'o', 16: 'p', 17: 'q', 18: 'r', 19: 's', 20: 't', 21: 'u', 22: 'v', 23: 'w', 24: 'x', 25: 'y', 26: 'z', 0: '.'}\n"
          ]
        }
      ]
    },
    {
      "cell_type": "code",
      "source": [
        "print(ctoi)"
      ],
      "metadata": {
        "colab": {
          "base_uri": "https://localhost:8080/"
        },
        "id": "4t-Rs9ExvDw2",
        "outputId": "61ae7343-7490-478b-9a54-589eeb0a43d0"
      },
      "execution_count": 100,
      "outputs": [
        {
          "output_type": "stream",
          "name": "stdout",
          "text": [
            "{'a': 1, 'b': 2, 'c': 3, 'd': 4, 'e': 5, 'f': 6, 'g': 7, 'h': 8, 'i': 9, 'j': 10, 'k': 11, 'l': 12, 'm': 13, 'n': 14, 'o': 15, 'p': 16, 'q': 17, 'r': 18, 's': 19, 't': 20, 'u': 21, 'v': 22, 'w': 23, 'x': 24, 'y': 25, 'z': 26, '.': 0}\n"
          ]
        }
      ]
    },
    {
      "cell_type": "code",
      "source": [
        "vocab_size = len(ctoi)\n",
        "print(vocab_size)"
      ],
      "metadata": {
        "colab": {
          "base_uri": "https://localhost:8080/"
        },
        "id": "Bpbdik5_ne80",
        "outputId": "15e8cbf4-dade-440a-f785-4e1121f4b5c6"
      },
      "execution_count": 101,
      "outputs": [
        {
          "output_type": "stream",
          "name": "stdout",
          "text": [
            "27\n"
          ]
        }
      ]
    },
    {
      "cell_type": "code",
      "source": [
        "def build_dataset(inp_words) -> tuple[torch.tensor, torch.tensor]:\n",
        "\n",
        "  block_size = 3 # context length -> how many chars does it take to predict the next\n",
        "  inp, target = [], []\n",
        "  for w in inp_words:\n",
        "    context = [0] * block_size\n",
        "\n",
        "    for ch in w + '.':\n",
        "      ix = ctoi[ch]\n",
        "      inp.append(context)\n",
        "      target.append(ix)\n",
        "      context = context[1:] + [ix] # crop and append\n",
        "\n",
        "  inp = torch.tensor(inp)\n",
        "  target = torch.tensor(target)\n",
        "  return inp, target"
      ],
      "metadata": {
        "id": "jJqoPknQvJ2N"
      },
      "execution_count": 102,
      "outputs": []
    },
    {
      "cell_type": "code",
      "source": [
        "import random\n",
        "random.seed(42)\n",
        "\n",
        "random.shuffle(words)\n",
        "n1 = int(0.8 * len(words))\n",
        "n2 = int(0.9 * len(words))\n",
        "\n",
        "Xtr, Ytr = build_dataset(words[:n1])\n",
        "Xdev, Ydev = build_dataset(words[n1:n2])\n",
        "Xte, Yte = build_dataset(words[n2:])"
      ],
      "metadata": {
        "id": "wjgYr1ucOsG3"
      },
      "execution_count": 103,
      "outputs": []
    },
    {
      "cell_type": "code",
      "source": [
        "# to later compare gradients we computed to Pytorch gradients\n",
        "def cmp(s, dt, t):\n",
        "  ex = torch.all(dt == t.grad).item()\n",
        "  app = torch.allclose(dt, t.grad)\n",
        "  maxdiff = (dt - t.grad).abs().max().item()\n",
        "  print(f'{s:15s} | exact: {str(ex):5s} | approximate: {str(app):5s} | maxdiff: {maxdiff}')"
      ],
      "metadata": {
        "id": "beykf3rdPGHb"
      },
      "execution_count": 121,
      "outputs": []
    },
    {
      "cell_type": "code",
      "source": [
        "n_emb = 10\n",
        "n_context = 3\n",
        "n_hidden = 64\n",
        "\n",
        "g = torch.Generator().manual_seed(214783647)\n",
        "C = torch.randn((vocab_size, n_emb), generator=g)\n",
        "\n",
        "# first layer                                           # kaiming init\n",
        "W1 = torch.randn((n_emb * n_context, n_hidden), generator=g) * (5/3) / ((n_emb * 3) ** 0.5)\n",
        "B1 = torch.randn(n_hidden, generator=g) * 0.1 # these biases dont do anything since we saw they get subtracted in batch normlizing but its here for fun\n",
        "\n",
        "# second layer\n",
        "W2 = torch.randn((n_hidden, vocab_size), generator=g) * 0.1\n",
        "B2 = torch.randn(vocab_size, generator=g) * 0.1\n",
        "\n",
        "# batchnorm params\n",
        "bngain = torch.ones((1, n_hidden)) * 0.1 + 1.0\n",
        "bnbias = torch.zeros((1, n_hidden)) * 0.1\n",
        "\n",
        "parameters = [C, W1, B1, W2, B2, bngain, bnbias]\n",
        "print(sum(p.nelement() for p in parameters)) # number of parameters in total\n",
        "for p in parameters:\n",
        "  p.requires_grad = True\n",
        "\n",
        "\n"
      ],
      "metadata": {
        "colab": {
          "base_uri": "https://localhost:8080/"
        },
        "id": "gEVvGdwYgt5J",
        "outputId": "f39e4a3b-5b43-4fdc-f63a-b2f2c5f36d35"
      },
      "execution_count": 122,
      "outputs": [
        {
          "output_type": "stream",
          "name": "stdout",
          "text": [
            "4137\n"
          ]
        }
      ]
    },
    {
      "cell_type": "code",
      "source": [
        "B = 32 # batch size\n",
        "# forward pass\n",
        "Xb = Xtr[:B]\n",
        "Yb = Ytr[:B]\n",
        "\n",
        "emb = C[Xb]\n",
        "embcat = emb.view(emb.shape[0], -1)\n",
        "\n",
        "# linear layer 1\n",
        "hprebn = embcat @ W1 + B1\n",
        "# batch norm\n",
        "bnmeani = 1 / emb.shape[0] * hprebn.sum(0, keepdim=True)\n",
        "bndiff = hprebn - bnmeani\n",
        "bndiff2 = bndiff ** 2\n",
        "bnvar = 1 / (emb.shape[0] - 1) * bndiff2.sum(0, keepdim=True)\n",
        "bnvar_inv = (bnvar + 1e-5) ** -0.5\n",
        "bndiff_norm = bndiff * bnvar_inv\n",
        "bnraw = bndiff_norm * bngain + bnbias\n",
        "hpreact = bngain * bnraw + bnbias\n",
        "# non linearity\n",
        "h = torch.tanh(hpreact)\n",
        "# second linear layer\n",
        "logits = h @ W2 + B2\n",
        "# cross entropy loss\n",
        "logit_maxes = logits.max(1, keepdim=True).values\n",
        "norm_logits = logits - logit_maxes # subtract the max so we dont get inf in counts\n",
        "counts = norm_logits.exp()\n",
        "counts_sum = counts.sum(1, keepdims=True)\n",
        "counts_sum_inv = counts_sum ** -1\n",
        "probs = counts * counts_sum_inv\n",
        "logprobs = probs.log()\n",
        "loss = -logprobs[range(Xb.shape[0]), Yb].mean()\n",
        "\n",
        "# pytorch backwards\n",
        "for p in parameters:\n",
        "  p.grad = None\n",
        "\n",
        "for t in [logprobs, probs, counts, counts_sum, counts_sum_inv,\n",
        "          norm_logits, logit_maxes, logits, h, hpreact, bnraw,\n",
        "          bnvar_inv, bnvar, bndiff_norm, bndiff, hprebn, bnmeani,\n",
        "          embcat, emb]:\n",
        "  t.retain_grad()\n",
        "\n",
        "loss.backward()\n",
        "loss\n",
        "\n"
      ],
      "metadata": {
        "colab": {
          "base_uri": "https://localhost:8080/"
        },
        "id": "dE2LfWUfh6tM",
        "outputId": "d4fac2de-b84c-4b59-ff18-a1edfe3e9133"
      },
      "execution_count": 130,
      "outputs": [
        {
          "output_type": "execute_result",
          "data": {
            "text/plain": [
              "tensor(3.4207, grad_fn=<NegBackward0>)"
            ]
          },
          "metadata": {},
          "execution_count": 130
        }
      ]
    },
    {
      "cell_type": "code",
      "source": [
        "from ctypes import c_size_t\n",
        "# Ecercise 1\n",
        "# Calculating all of the deriatives manually to do backprop\n",
        "\n",
        "# L = loss\n",
        "# dL/dL = 1\n",
        "\n",
        "# dL/dlogprobs\n",
        "# loss = -(a + b + c ... ) /B\n",
        "#      = -a/B -b/B -c/B ...\n",
        "#      = dL/da = -1/B, dL/db = -1/B ...\n",
        "# adding just propates the gradient\n",
        "# dl/dlogprobs = -1/B\n",
        "\n",
        "dlogprobs = torch.zeros_like(logprobs)\n",
        "dlogprobs[range(B), Yb] = -1.0/B\n",
        "\n",
        "# dL/dprobs = dL/dlogprobs * dlogprobs/dprobs -> chain rule\n",
        "#           = -1/B         * ???\n",
        "# logprobs = probs.log()\n",
        "# logprobs = ln(probs)\n",
        "# dlogprobs/dprobs = 1/probs\n",
        "\n",
        "# dL/dprobs = dlogprobs * 1/probs\n",
        "dprobs = dlogprobs * 1.0/probs\n",
        "\n",
        "# probs = counts * counts_sum_inv\n",
        "\n",
        "# p  = a * b\n",
        "# a[3x3] * b[3x1]\n",
        "# a11*b1 a12*b1 a13*b1\n",
        "# a21*b2 a22*b2 a23*b2\n",
        "# a31*b3 a23*b3 a33*b3\n",
        "# p[3x3]\n",
        "\n",
        "# since we reuse b1, b2, b3 we need to add their gradients and keep the original shape [32x1]\n",
        "# dL/dcsi = (counts * dprobs).sum(1, keepdim=true)\n",
        "dcsi= (counts * dprobs).sum(1, keepdim=True)\n",
        "\n",
        "# refering to our p = a * b\n",
        "# a represents counts\n",
        "# dL/da = dL/dp * dp/da\n",
        "#       = dprobs * dcsi\n",
        "dcounts = dprobs * counts_sum_inv\n",
        "\n",
        "# counts_sum_inv = counts_sum ** -1\n",
        "# dcounts_sum = dL/dcsi * -1 * counts_sum**-2\n",
        "dcounts_sum = dcsi * (-counts_sum**-2)\n",
        "\n",
        "# counts_sum = counts.sum(1, keepdims=True)\n",
        "# addition pretty much carries the gradient over\n",
        "# counts_sum = c1 + c2 + c3 ...\n",
        "# dL/dc1 = dL/dcounts_sum * dcounts_sum/dc1\n",
        "#        = dcounts_sum * 1\n",
        "# we want to add to the already existing dcounts since its apart of multiple nodes in the prop tree\n",
        "\n",
        "dcounts += torch.ones_like(dcounts_sum) * dcounts_sum\n",
        "\n",
        "#counts = norm_logits.exp()\n",
        "#counts = e^norm_logits\n",
        "# dL/dnorm_logits = dL/dcounts * dcounts/dnorm_logits\n",
        "#                 = dcounts    * e^norm_logits\n",
        "\n",
        "dnorm_logits = counts * dcounts\n",
        "\n",
        "\n",
        "#norm_logits = logits - logit_maxes\n",
        "# similar to out counts and counts_sum situtation, we repeat logit_maxes\n",
        "# c  = a - b\n",
        "# a[3x3] - b[3x1]\n",
        "# a11-b1 a12-b1 a13-b1\n",
        "# a21-b2 a22-b2 a23-b2\n",
        "# a31-b3 a23-b3 a33-b3\n",
        "# c[3x3]\n",
        "#dL/dlogit_maxes = dnorm_logits * dnorm_logits/dlogit_maxes\n",
        "#                               * [-1, -1, -1, ...]\n",
        "#                                 [-1, -1, -1, ...]\n",
        "#                                        ...\n",
        "dlogit_maxes = -dnorm_logits.sum(1, keepdim=True)\n",
        "\n",
        "# dL/dlogits = dnorm_logits\n",
        "dlogits = dnorm_logits.clone()\n",
        "# we arent done yet with dlogits though\n",
        "# logit_maxes = logits.max(1, keepdim=True).values\n",
        "# dL/logits = dlogit_maxes * dlogit_maxes/dlogits\n",
        "\n",
        "#             dlogit_maxes/dlogits = 1 at max index per row. Everywhere else = 0\n",
        "\n",
        "#            = dlogit_maxes * 1, for the max index in each row\n",
        "\n",
        "#           dlogit_maxes linearly depends on dlogits since all the values in dlogit_maxes are in dlogits\n",
        "# only the max value participates in the deriative\n",
        "# since we are adding dlogits to\n",
        "# dlogit_maxes = [b1]\n",
        "#                [b2]\n",
        "#                 ..\n",
        "#                [b32]\n",
        "logit_max_indices = logits.argmax(1, keepdim=True)\n",
        "rows = torch.arange(logits.shape[0])\n",
        "cols = logit_max_indices.squeeze(1)\n",
        "dlogits[rows, cols] += dlogit_maxes.squeeze(1)\n",
        "\n",
        "# dL/dlogits =  dlogit_maxes *\n",
        "\n",
        "#h = torch.tanh(hpreact)\n",
        "# second linear layer\n",
        "#logits = h @ W2 + B2\n",
        "# cross entropy loss\n",
        "#logit_maxes = logits.max(1, keepdim=True).values\n",
        "\n",
        "\n",
        "cmp('dlogprobs', dlogprobs, logprobs)\n",
        "cmp('dprobs', dprobs, probs)\n",
        "cmp('dcsi', dcsi, counts_sum_inv)\n",
        "cmp('dcounts_sum', dcounts_sum, counts_sum)\n",
        "cmp('dcounts', dcounts, counts)\n",
        "cmp('dnorm_logits', dnorm_logits, norm_logits)\n",
        "cmp('dlogit_maxes', dlogit_maxes, logit_maxes)\n",
        "cmp('dlogit', dlogits, logits)\n",
        "\n",
        "\n",
        "\n",
        "#counts_sum = counts.sum(1, keepdims=True)\n",
        "#counts_sum_inv = counts_sum ** -1\n"
      ],
      "metadata": {
        "colab": {
          "base_uri": "https://localhost:8080/"
        },
        "id": "Pi_x-AcWjjPS",
        "outputId": "ed79a6da-45dd-4326-f71d-73412edc1cd3"
      },
      "execution_count": 136,
      "outputs": [
        {
          "output_type": "stream",
          "name": "stdout",
          "text": [
            "dlogprobs       | exact: True  | approximate: True  | maxdiff: 0.0\n",
            "dprobs          | exact: True  | approximate: True  | maxdiff: 0.0\n",
            "dcsi            | exact: True  | approximate: True  | maxdiff: 0.0\n",
            "dcounts_sum     | exact: True  | approximate: True  | maxdiff: 0.0\n",
            "dcounts         | exact: True  | approximate: True  | maxdiff: 0.0\n",
            "dnorm_logits    | exact: True  | approximate: True  | maxdiff: 0.0\n",
            "dlogit_maxes    | exact: True  | approximate: True  | maxdiff: 0.0\n",
            "dlogit          | exact: True  | approximate: True  | maxdiff: 0.0\n"
          ]
        }
      ]
    },
    {
      "cell_type": "code",
      "source": [],
      "metadata": {
        "id": "P6D57gSihX-v"
      },
      "execution_count": 124,
      "outputs": []
    }
  ]
}