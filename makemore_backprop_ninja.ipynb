{
  "nbformat": 4,
  "nbformat_minor": 0,
  "metadata": {
    "colab": {
      "provenance": [],
      "authorship_tag": "ABX9TyN5TidB3wkUn9oesnEkUbDZ"
    },
    "kernelspec": {
      "name": "python3",
      "display_name": "Python 3"
    },
    "language_info": {
      "name": "python"
    }
  },
  "cells": [
    {
      "cell_type": "code",
      "execution_count": 1,
      "metadata": {
        "id": "5ZuaZUp5oJh8"
      },
      "outputs": [],
      "source": [
        "import torch.nn.functional as F\n",
        "import matplotlib.pyplot as plt\n",
        "import numpy as np\n",
        "import kagglehub\n",
        "import torch\n",
        "import os\n",
        "%matplotlib inline"
      ]
    },
    {
      "cell_type": "code",
      "source": [
        "def download_dataset() -> str:\n",
        "    path = kagglehub.dataset_download(\"rishitjakharia/names-txt\")\n",
        "    return path # for easier access later"
      ],
      "metadata": {
        "id": "g44jFQs2qCGl"
      },
      "execution_count": 2,
      "outputs": []
    },
    {
      "cell_type": "code",
      "source": [
        "dataset_path = download_dataset() + \"/names.txt\""
      ],
      "metadata": {
        "id": "MA9H16s-qPXT",
        "colab": {
          "base_uri": "https://localhost:8080/"
        },
        "outputId": "95826c73-e949-4680-b620-94ce5bb493d7"
      },
      "execution_count": 3,
      "outputs": [
        {
          "output_type": "stream",
          "name": "stdout",
          "text": [
            "Downloading from https://www.kaggle.com/api/v1/datasets/download/rishitjakharia/names-txt?dataset_version_number=1...\n"
          ]
        },
        {
          "output_type": "stream",
          "name": "stderr",
          "text": [
            "100%|██████████| 113k/113k [00:00<00:00, 52.8MB/s]"
          ]
        },
        {
          "output_type": "stream",
          "name": "stdout",
          "text": [
            "Extracting files...\n"
          ]
        },
        {
          "output_type": "stream",
          "name": "stderr",
          "text": [
            "\n"
          ]
        }
      ]
    },
    {
      "cell_type": "code",
      "source": [
        "words = open(dataset_path, 'r').read().splitlines()"
      ],
      "metadata": {
        "id": "VYqGvxdiqWwr"
      },
      "execution_count": 4,
      "outputs": []
    },
    {
      "cell_type": "code",
      "source": [
        "def make_int_char_maps() -> tuple[dict, dict]:\n",
        "  chars = sorted(list(set(''.join(words))))\n",
        "  ctoi = {c: i + 1 for i, c in enumerate(chars)}\n",
        "  ctoi['.'] = 0\n",
        "  itoc = {i: c for c, i in ctoi.items()}\n",
        "  return ctoi, itoc"
      ],
      "metadata": {
        "id": "K2-SWXb-qnq7"
      },
      "execution_count": 5,
      "outputs": []
    },
    {
      "cell_type": "code",
      "source": [
        "ctoi, itoc = make_int_char_maps()"
      ],
      "metadata": {
        "id": "RdXYrtwBq5sT"
      },
      "execution_count": 6,
      "outputs": []
    },
    {
      "cell_type": "code",
      "source": [
        "print(itoc)"
      ],
      "metadata": {
        "colab": {
          "base_uri": "https://localhost:8080/"
        },
        "id": "niQbCUjPrAuD",
        "outputId": "d44ea28f-91c6-45e5-9eec-9695b6137381"
      },
      "execution_count": 7,
      "outputs": [
        {
          "output_type": "stream",
          "name": "stdout",
          "text": [
            "{1: 'a', 2: 'b', 3: 'c', 4: 'd', 5: 'e', 6: 'f', 7: 'g', 8: 'h', 9: 'i', 10: 'j', 11: 'k', 12: 'l', 13: 'm', 14: 'n', 15: 'o', 16: 'p', 17: 'q', 18: 'r', 19: 's', 20: 't', 21: 'u', 22: 'v', 23: 'w', 24: 'x', 25: 'y', 26: 'z', 0: '.'}\n"
          ]
        }
      ]
    },
    {
      "cell_type": "code",
      "source": [
        "print(ctoi)"
      ],
      "metadata": {
        "colab": {
          "base_uri": "https://localhost:8080/"
        },
        "id": "4t-Rs9ExvDw2",
        "outputId": "bcb0beea-98b6-43d0-e4aa-87f8129232f7"
      },
      "execution_count": 8,
      "outputs": [
        {
          "output_type": "stream",
          "name": "stdout",
          "text": [
            "{'a': 1, 'b': 2, 'c': 3, 'd': 4, 'e': 5, 'f': 6, 'g': 7, 'h': 8, 'i': 9, 'j': 10, 'k': 11, 'l': 12, 'm': 13, 'n': 14, 'o': 15, 'p': 16, 'q': 17, 'r': 18, 's': 19, 't': 20, 'u': 21, 'v': 22, 'w': 23, 'x': 24, 'y': 25, 'z': 26, '.': 0}\n"
          ]
        }
      ]
    },
    {
      "cell_type": "code",
      "source": [
        "vocab_size = len(ctoi)\n",
        "print(vocab_size)"
      ],
      "metadata": {
        "colab": {
          "base_uri": "https://localhost:8080/"
        },
        "id": "Bpbdik5_ne80",
        "outputId": "0c3b1136-309a-447e-dd29-7740605972fd"
      },
      "execution_count": 9,
      "outputs": [
        {
          "output_type": "stream",
          "name": "stdout",
          "text": [
            "27\n"
          ]
        }
      ]
    },
    {
      "cell_type": "code",
      "source": [
        "def build_dataset(inp_words) -> tuple[torch.tensor, torch.tensor]:\n",
        "\n",
        "  block_size = 3 # context length -> how many chars does it take to predict the next\n",
        "  inp, target = [], []\n",
        "  for w in inp_words:\n",
        "    context = [0] * block_size\n",
        "\n",
        "    for ch in w + '.':\n",
        "      ix = ctoi[ch]\n",
        "      inp.append(context)\n",
        "      target.append(ix)\n",
        "      context = context[1:] + [ix] # crop and append\n",
        "\n",
        "  inp = torch.tensor(inp)\n",
        "  target = torch.tensor(target)\n",
        "  return inp, target"
      ],
      "metadata": {
        "id": "jJqoPknQvJ2N"
      },
      "execution_count": 10,
      "outputs": []
    },
    {
      "cell_type": "code",
      "source": [
        "import random\n",
        "random.seed(42)\n",
        "\n",
        "random.shuffle(words)\n",
        "n1 = int(0.8 * len(words))\n",
        "n2 = int(0.9 * len(words))\n",
        "\n",
        "Xtr, Ytr = build_dataset(words[:n1])\n",
        "Xdev, Ydev = build_dataset(words[n1:n2])\n",
        "Xte, Yte = build_dataset(words[n2:])"
      ],
      "metadata": {
        "id": "wjgYr1ucOsG3"
      },
      "execution_count": 11,
      "outputs": []
    },
    {
      "cell_type": "code",
      "source": [
        "# to later compare gradients we computed to Pytorch gradients\n",
        "def cmp(s, dt, t):\n",
        "  ex = torch.all(dt == t.grad).item()\n",
        "  app = torch.allclose(dt, t.grad)\n",
        "  maxdiff = (dt - t.grad).abs().max().item()\n",
        "  print(f'{s:15s} | exact: {str(ex):5s} | approximate: {str(app):5s} | maxdiff: {maxdiff}')"
      ],
      "metadata": {
        "id": "beykf3rdPGHb"
      },
      "execution_count": 12,
      "outputs": []
    },
    {
      "cell_type": "code",
      "source": [
        "n_emb = 10\n",
        "n_context = 3\n",
        "n_hidden = 64\n",
        "\n",
        "g = torch.Generator().manual_seed(214783647)\n",
        "C = torch.randn((vocab_size, n_emb), generator=g)\n",
        "\n",
        "# first layer                                           # kaiming init\n",
        "W1 = torch.randn((n_emb * n_context, n_hidden), generator=g) * (5/3) / ((n_emb * 3) ** 0.5)\n",
        "B1 = torch.randn(n_hidden, generator=g) * 0.1 # these biases dont do anything since we saw they get subtracted in batch normlizing but its here for fun\n",
        "\n",
        "# second layer\n",
        "W2 = torch.randn((n_hidden, vocab_size), generator=g) * 0.1\n",
        "B2 = torch.randn(vocab_size, generator=g) * 0.1\n",
        "\n",
        "# batchnorm params\n",
        "bngain = torch.ones((1, n_hidden)) * 0.1 + 1.0\n",
        "bnbias = torch.zeros((1, n_hidden)) * 0.1\n",
        "\n",
        "parameters = [C, W1, B1, W2, B2, bngain, bnbias]\n",
        "print(sum(p.nelement() for p in parameters)) # number of parameters in total\n",
        "for p in parameters:\n",
        "  p.requires_grad = True\n",
        "\n",
        "\n"
      ],
      "metadata": {
        "colab": {
          "base_uri": "https://localhost:8080/"
        },
        "id": "gEVvGdwYgt5J",
        "outputId": "4a56ced3-0a68-4b32-b935-53774213227f"
      },
      "execution_count": 13,
      "outputs": [
        {
          "output_type": "stream",
          "name": "stdout",
          "text": [
            "4137\n"
          ]
        }
      ]
    },
    {
      "cell_type": "code",
      "source": [
        "B = 32 # batch size\n",
        "# forward pass\n",
        "Xb = Xtr[:B]\n",
        "Yb = Ytr[:B]\n",
        "\n",
        "emb = C[Xb]\n",
        "embcat = emb.view(emb.shape[0], -1)\n",
        "\n",
        "# linear layer 1\n",
        "hprebn = embcat @ W1 + B1\n",
        "# batch norm\n",
        "bnmeani = 1 / emb.shape[0] * hprebn.sum(0, keepdim=True)\n",
        "bndiff = hprebn - bnmeani\n",
        "bndiff2 = bndiff ** 2\n",
        "bnvar = 1 / (emb.shape[0] - 1) * bndiff2.sum(0, keepdim=True)\n",
        "bnvar_inv = (bnvar + 1e-5) ** -0.5\n",
        "bndiff_norm = bndiff * bnvar_inv\n",
        "bnraw = bndiff_norm * bngain + bnbias\n",
        "hpreact = bngain * bnraw + bnbias\n",
        "# non linearity\n",
        "h = torch.tanh(hpreact)\n",
        "# second linear layer\n",
        "logits = h @ W2 + B2\n",
        "# cross entropy loss\n",
        "logit_maxes = logits.max(1, keepdim=True).values\n",
        "norm_logits = logits - logit_maxes # subtract the max so we dont get inf in counts\n",
        "counts = norm_logits.exp()\n",
        "counts_sum = counts.sum(1, keepdims=True)\n",
        "counts_sum_inv = counts_sum ** -1\n",
        "probs = counts * counts_sum_inv\n",
        "logprobs = probs.log()\n",
        "loss = -logprobs[range(Xb.shape[0]), Yb].mean()\n",
        "\n",
        "# pytorch backwards\n",
        "for p in parameters:\n",
        "  p.grad = None\n",
        "\n",
        "for t in [logprobs, probs, counts, counts_sum, counts_sum_inv,\n",
        "          norm_logits, logit_maxes, logits, h, hpreact, bnraw,\n",
        "          bnvar_inv, bnvar, bndiff_norm, bndiff, hprebn, bnmeani,\n",
        "          embcat, emb]:\n",
        "  t.retain_grad()\n",
        "\n",
        "loss.backward()\n",
        "loss\n",
        "\n"
      ],
      "metadata": {
        "colab": {
          "base_uri": "https://localhost:8080/"
        },
        "id": "dE2LfWUfh6tM",
        "outputId": "4c06e796-2756-4561-a352-c97efe1f4e50"
      },
      "execution_count": 14,
      "outputs": [
        {
          "output_type": "execute_result",
          "data": {
            "text/plain": [
              "tensor(3.4207, grad_fn=<NegBackward0>)"
            ]
          },
          "metadata": {},
          "execution_count": 14
        }
      ]
    },
    {
      "cell_type": "code",
      "source": [
        "from ctypes import c_size_t\n",
        "# Ecercise 1\n",
        "# Calculating all of the deriatives manually to do backprop\n",
        "\n",
        "# L = loss\n",
        "# dL/dL = 1\n",
        "\n",
        "# dL/dlogprobs\n",
        "# loss = -(a + b + c ... ) /B\n",
        "#      = -a/B -b/B -c/B ...\n",
        "#      = dL/da = -1/B, dL/db = -1/B ...\n",
        "# adding just propates the gradient\n",
        "# dl/dlogprobs = -1/B\n",
        "\n",
        "dlogprobs = torch.zeros_like(logprobs)\n",
        "dlogprobs[range(B), Yb] = -1/B\n",
        "\n",
        "# dL/dprobs = dL/dlogprobs * dlogprobs/dprobs -> chain rule\n",
        "#           = -1/B         * ???\n",
        "# logprobs = probs.log()\n",
        "# logprobs = ln(probs)\n",
        "# dlogprobs/dprobs = 1/probs\n",
        "\n",
        "# dL/dprobs = dlogprobs * 1/probs\n",
        "dprobs = dlogprobs * 1/probs\n",
        "\n",
        "# probs = counts * counts_sum_inv\n",
        "\n",
        "# p  = a * b\n",
        "# a[3x3] * b[3x1]\n",
        "# a11*b1 a12*b1 a13*b1\n",
        "# a21*b2 a22*b2 a23*b2\n",
        "# a31*b3 a23*b3 a33*b3\n",
        "# p[3x3]\n",
        "\n",
        "# since we reuse b1, b2, b3 we need to add their gradients and keep the original shape [32x1]\n",
        "# dL/dcsi = (counts * dprobs).sum(1, keepdim=true)\n",
        "dcsi= (counts * dprobs).sum(1, keepdim=True)\n",
        "\n",
        "# refering to our p = a * b\n",
        "# a represents counts\n",
        "# dL/da = dL/dp * dp/da\n",
        "#       = dprobs * dcsi\n",
        "dcounts = dprobs * counts_sum_inv\n",
        "\n",
        "# counts_sum_inv = counts_sum ** -1\n",
        "# dcounts_sum = dL/dcsi * -1 * counts_sum**-2\n",
        "dcounts_sum = dcsi * (-1*counts_sum**-2)\n",
        "\n",
        "# counts_sum = counts.sum(1, keepdims=True)\n",
        "# addition pretty much carries the gradient over\n",
        "# counts_sum = c1 + c2 + c3 ...\n",
        "# dL/dc1 = dL/dcounts_sum * dcounts_sum/dc1\n",
        "#        = dcounts_sum * 1\n",
        "# we want to add to the already existing dcounts since its apart of multiple nodes in the prop tree\n",
        "\n",
        "dcounts += dcounts_sum\n",
        "\n",
        "cmp('dlogprobs', dlogprobs, logprobs)\n",
        "cmp('dprobs', dprobs, probs)\n",
        "cmp('dcsi', dcsi, counts_sum_inv)\n",
        "cmp('dcounts_sum', dcounts_sum, counts_sum)\n",
        "cmp('dcounts', dcounts, counts)\n",
        "\n",
        "\n",
        "\n",
        "#counts_sum = counts.sum(1, keepdims=True)\n",
        "#counts_sum_inv = counts_sum ** -1\n"
      ],
      "metadata": {
        "colab": {
          "base_uri": "https://localhost:8080/"
        },
        "id": "Pi_x-AcWjjPS",
        "outputId": "8a1bcfc5-1837-4b6e-c86c-6c92b09ef324"
      },
      "execution_count": 43,
      "outputs": [
        {
          "output_type": "stream",
          "name": "stdout",
          "text": [
            "dlogprobs       | exact: True  | approximate: True  | maxdiff: 0.0\n",
            "dprobs          | exact: True  | approximate: True  | maxdiff: 0.0\n",
            "dcsi            | exact: True  | approximate: True  | maxdiff: 0.0\n",
            "dcounts_sum     | exact: True  | approximate: True  | maxdiff: 0.0\n",
            "dcounts         | exact: True  | approximate: True  | maxdiff: 0.0\n"
          ]
        }
      ]
    },
    {
      "cell_type": "code",
      "source": [],
      "metadata": {
        "id": "P6D57gSihX-v"
      },
      "execution_count": null,
      "outputs": []
    }
  ]
}